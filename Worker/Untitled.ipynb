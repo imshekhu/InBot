{
 "cells": [
  {
   "cell_type": "code",
   "execution_count": 1,
   "metadata": {},
   "outputs": [],
   "source": [
    "from selenium import webdriver\n",
    "from selenium.webdriver.common.keys import Keys\n",
    "from selenium.webdriver.chrome.options import Options\n",
    "from selenium.webdriver.common.proxy import Proxy, ProxyType"
   ]
  },
  {
   "cell_type": "code",
   "execution_count": 3,
   "metadata": {},
   "outputs": [],
   "source": [
    "driver = webdriver.Chrome('./chromedriver')\n",
    "        # driver.get(\"http://whatismyipaddress.com\")\n",
    "driver.get('https://www.instagram.com/accounts/login/')"
   ]
  },
  {
   "cell_type": "code",
   "execution_count": 5,
   "metadata": {},
   "outputs": [],
   "source": [
    "inputs = driver.find_elements_by_tag_name('input')\n",
    "        #printlen(inputs))\n",
    "for input in inputs:\n",
    "    if(input.get_attribute('type') =='text' ):\n",
    "        uname = input\n",
    "    if(input.get_attribute('type') =='password' ):\n",
    "        pwd = input"
   ]
  },
  {
   "cell_type": "code",
   "execution_count": 6,
   "metadata": {},
   "outputs": [],
   "source": [
    "uname.send_keys(\"strawberries_black\")"
   ]
  },
  {
   "cell_type": "code",
   "execution_count": 7,
   "metadata": {},
   "outputs": [],
   "source": [
    "pwd.send_keys(\"deltaforce\")"
   ]
  },
  {
   "cell_type": "code",
   "execution_count": 8,
   "metadata": {},
   "outputs": [],
   "source": [
    "pwd.send_keys(Keys.ENTER)\n"
   ]
  },
  {
   "cell_type": "code",
   "execution_count": 9,
   "metadata": {},
   "outputs": [],
   "source": [
    "driver.get('https://www.instagram.com/upmasharmaofficial/')"
   ]
  },
  {
   "cell_type": "code",
   "execution_count": 39,
   "metadata": {},
   "outputs": [
    {
     "name": "stdout",
     "output_type": "stream",
     "text": [
      "47\n"
     ]
    }
   ],
   "source": [
    "flowers = driver.find_elements_by_tag_name('a')\n",
    "print(len(flowers))\n",
    "for opnflw in flowers:\n",
    "    if(opnflw.get_attribute('href')==\"https://www.instagram.com/upmasharmaofficial/followers/\"):\n",
    "        opnflw.click()"
   ]
  },
  {
   "cell_type": "code",
   "execution_count": 36,
   "metadata": {},
   "outputs": [
    {
     "name": "stdout",
     "output_type": "stream",
     "text": [
      "42\n",
      "length of old 42\n"
     ]
    }
   ],
   "source": [
    "lols = driver.find_elements_by_tag_name('div')\n",
    "try:\n",
    "    for lol in lols:\n",
    "       \n",
    "        if(lol.get_attribute('role')=='dialog'):\n",
    "\n",
    "                secwin = lol.find_element_by_class_name('isgrP')\n",
    "                #len of old lis new lis< then scroll...New lis new old\n",
    "                lis = driver.find_elements_by_tag_name('li')\n",
    "                #print(lis)\n",
    "                print(len(lis))\n",
    "                driver.execute_script(\"arguments[0].scrollTo(0,1000);\", secwin)\n",
    "                driver.execute_script(\"arguments[0].scrollTo(1000,0);\", secwin)\n",
    "                driver.execute_script(\"arguments[0].scrollTo(100,500);\", secwin)\n",
    "                #rot(lis,secwin)\n",
    "\n",
    "\n",
    "\n",
    "\n",
    "\n",
    "\n",
    "                oldlist = len(lis)\n",
    "                print('length of old',oldlist)\n",
    "                counter = 1500\n",
    "\n",
    "                time.sleep(5)\n",
    "                nis = driver.find_elements_by_tag_name('li')\n",
    "                print(oldlist)\n",
    "\n",
    "                newlist = len(nis)\n",
    "                print(newlist)\n",
    "\n",
    "                print('lengthofnewlist',newlist)\n",
    "                chekcer = 0\n",
    "\n",
    "                try:\n",
    "                    while(oldlist<newlist):\n",
    "\n",
    "                        oldlist = newlist\n",
    "                        driver.execute_script(\"arguments[0].scrollTo(0,\"+str(counter)+\");\", secwin)\n",
    "                        time.sleep(2)\n",
    "                        nis = driver.find_elements_by_tag_name('li')\n",
    "                        newlist = len(nis)\n",
    "                        counter+=1000\n",
    "                        print('oldlistlengthinwhile',oldlist)\n",
    "                        print('newlistlengthinwhile',newlist)\n",
    "                        chekcer +=1\n",
    "                        if(chekcer > 5):\n",
    "                            break\n",
    "                    \n",
    "\n",
    "\n",
    "                except Exception as e:\n",
    "                    print(e)\n",
    "except Exception as e:\n",
    "    pass"
   ]
  },
  {
   "cell_type": "code",
   "execution_count": 18,
   "metadata": {},
   "outputs": [
    {
     "ename": "NameError",
     "evalue": "name 'nis' is not defined",
     "output_type": "error",
     "traceback": [
      "\u001b[0;31m---------------------------------------------------------------------------\u001b[0m",
      "\u001b[0;31mNameError\u001b[0m                                 Traceback (most recent call last)",
      "\u001b[0;32m<ipython-input-18-271ae76c632b>\u001b[0m in \u001b[0;36m<module>\u001b[0;34m\u001b[0m\n\u001b[0;32m----> 1\u001b[0;31m \u001b[0mprint\u001b[0m\u001b[0;34m(\u001b[0m\u001b[0mnis\u001b[0m\u001b[0;34m)\u001b[0m\u001b[0;34m\u001b[0m\u001b[0;34m\u001b[0m\u001b[0m\n\u001b[0m",
      "\u001b[0;31mNameError\u001b[0m: name 'nis' is not defined"
     ]
    }
   ],
   "source": [
    "print(nis)"
   ]
  },
  {
   "cell_type": "code",
   "execution_count": 69,
   "metadata": {},
   "outputs": [],
   "source": [
    "lols = driver.find_elements_by_tag_name('div')"
   ]
  },
  {
   "cell_type": "code",
   "execution_count": 70,
   "metadata": {},
   "outputs": [
    {
     "name": "stdout",
     "output_type": "stream",
     "text": [
      "Hi\n"
     ]
    }
   ],
   "source": [
    "for lol in lols:\n",
    "        \n",
    "        if(lol.get_attribute('role')=='dialog'):\n",
    "            print(\"Hi\")\n",
    "            secwin = lol.find_element_by_class_name('isgrP')\n",
    "            lis = driver.find_elements_by_tag_name('li')"
   ]
  },
  {
   "cell_type": "code",
   "execution_count": 71,
   "metadata": {},
   "outputs": [],
   "source": [
    " driver.execute_script(\"arguments[0].scrollTo(0,1000);\", secwin)"
   ]
  },
  {
   "cell_type": "code",
   "execution_count": 72,
   "metadata": {},
   "outputs": [],
   "source": [
    "driver.execute_script(\"arguments[0].scrollTo(1000,0);\", secwin)"
   ]
  },
  {
   "cell_type": "code",
   "execution_count": 73,
   "metadata": {},
   "outputs": [],
   "source": [
    "driver.execute_script(\"arguments[0].scrollTo(100,500);\", secwin)"
   ]
  },
  {
   "cell_type": "code",
   "execution_count": 74,
   "metadata": {},
   "outputs": [
    {
     "name": "stdout",
     "output_type": "stream",
     "text": [
      "31\n"
     ]
    }
   ],
   "source": [
    "oldlist = len(lis)\n",
    "print(oldlist)"
   ]
  },
  {
   "cell_type": "code",
   "execution_count": 75,
   "metadata": {},
   "outputs": [],
   "source": [
    "nis = driver.find_elements_by_tag_name('li')\n"
   ]
  },
  {
   "cell_type": "code",
   "execution_count": 76,
   "metadata": {},
   "outputs": [
    {
     "data": {
      "text/plain": [
       "43"
      ]
     },
     "execution_count": 76,
     "metadata": {},
     "output_type": "execute_result"
    }
   ],
   "source": [
    "len(nis)"
   ]
  },
  {
   "cell_type": "code",
   "execution_count": 77,
   "metadata": {},
   "outputs": [
    {
     "name": "stdout",
     "output_type": "stream",
     "text": [
      "oldlist 31\n",
      "newlist 55\n",
      "oldlist 43\n",
      "newlist 67\n",
      "oldlist 55\n",
      "newlist 79\n",
      "oldlist 67\n",
      "newlist 91\n",
      "oldlist 79\n",
      "newlist 103\n",
      "oldlist 91\n",
      "newlist 115\n",
      "oldlist 103\n",
      "newlist 127\n",
      "oldlist 115\n",
      "newlist 139\n",
      "oldlist 127\n",
      "newlist 151\n",
      "oldlist 139\n",
      "newlist 163\n",
      "oldlist 151\n",
      "newlist 175\n",
      "oldlist 163\n",
      "newlist 187\n",
      "oldlist 175\n",
      "newlist 199\n",
      "oldlist 187\n",
      "newlist 211\n",
      "oldlist 199\n",
      "newlist 223\n",
      "oldlist 211\n",
      "newlist 235\n",
      "oldlist 223\n",
      "newlist 247\n",
      "oldlist 235\n",
      "newlist 259\n",
      "oldlist 247\n",
      "newlist 271\n",
      "oldlist 259\n",
      "newlist 283\n",
      "oldlist 271\n",
      "newlist 295\n",
      "oldlist 283\n",
      "newlist 307\n",
      "oldlist 295\n",
      "newlist 319\n",
      "oldlist 307\n",
      "newlist 331\n",
      "oldlist 319\n",
      "newlist 343\n",
      "oldlist 331\n",
      "newlist 355\n",
      "oldlist 343\n",
      "newlist 367\n",
      "oldlist 355\n",
      "newlist 379\n",
      "oldlist 367\n",
      "newlist 391\n",
      "oldlist 379\n",
      "newlist 403\n",
      "oldlist 391\n",
      "newlist 415\n",
      "oldlist 403\n",
      "newlist 427\n",
      "oldlist 415\n",
      "newlist 439\n",
      "oldlist 427\n",
      "newlist 451\n",
      "oldlist 439\n",
      "newlist 463\n",
      "oldlist 451\n",
      "newlist 475\n",
      "oldlist 463\n",
      "newlist 487\n",
      "oldlist 475\n",
      "newlist 499\n",
      "oldlist 487\n",
      "newlist 511\n",
      "oldlist 499\n",
      "newlist 523\n",
      "oldlist 511\n",
      "newlist 535\n",
      "oldlist 523\n",
      "newlist 547\n",
      "oldlist 535\n",
      "newlist 559\n",
      "oldlist 547\n",
      "newlist 571\n",
      "oldlist 559\n",
      "newlist 583\n",
      "oldlist 571\n",
      "newlist 595\n",
      "oldlist 583\n",
      "newlist 607\n",
      "oldlist 595\n",
      "newlist 619\n",
      "oldlist 607\n",
      "newlist 631\n",
      "oldlist 619\n",
      "newlist 643\n",
      "oldlist 631\n",
      "newlist 655\n",
      "oldlist 643\n",
      "newlist 667\n",
      "oldlist 655\n",
      "newlist 679\n",
      "oldlist 667\n",
      "newlist 691\n",
      "oldlist 679\n",
      "newlist 703\n",
      "oldlist 691\n",
      "newlist 715\n",
      "oldlist 703\n",
      "newlist 727\n",
      "oldlist 715\n",
      "newlist 739\n",
      "oldlist 727\n",
      "newlist 751\n",
      "oldlist 739\n",
      "newlist 763\n",
      "oldlist 751\n",
      "newlist 775\n",
      "oldlist 763\n",
      "newlist 787\n",
      "oldlist 775\n",
      "newlist 799\n",
      "oldlist 787\n",
      "newlist 811\n",
      "oldlist 799\n",
      "newlist 823\n",
      "oldlist 811\n",
      "newlist 835\n",
      "oldlist 823\n"
     ]
    },
    {
     "ename": "KeyboardInterrupt",
     "evalue": "",
     "output_type": "error",
     "traceback": [
      "\u001b[0;31m---------------------------------------------------------------------------\u001b[0m",
      "\u001b[0;31mKeyboardInterrupt\u001b[0m                         Traceback (most recent call last)",
      "\u001b[0;32m<ipython-input-77-4b315d2e2272>\u001b[0m in \u001b[0;36m<module>\u001b[0;34m\u001b[0m\n\u001b[1;32m      6\u001b[0m     \u001b[0moldlist\u001b[0m \u001b[0;34m=\u001b[0m \u001b[0mnewlist\u001b[0m\u001b[0;34m\u001b[0m\u001b[0;34m\u001b[0m\u001b[0m\n\u001b[1;32m      7\u001b[0m     \u001b[0mdriver\u001b[0m\u001b[0;34m.\u001b[0m\u001b[0mexecute_script\u001b[0m\u001b[0;34m(\u001b[0m\u001b[0;34m\"arguments[0].scrollTo(0,\"\u001b[0m\u001b[0;34m+\u001b[0m\u001b[0mstr\u001b[0m\u001b[0;34m(\u001b[0m\u001b[0mcounter\u001b[0m\u001b[0;34m)\u001b[0m\u001b[0;34m+\u001b[0m\u001b[0;34m\");\"\u001b[0m\u001b[0;34m,\u001b[0m \u001b[0msecwin\u001b[0m\u001b[0;34m)\u001b[0m\u001b[0;34m\u001b[0m\u001b[0;34m\u001b[0m\u001b[0m\n\u001b[0;32m----> 8\u001b[0;31m     \u001b[0mtime\u001b[0m\u001b[0;34m.\u001b[0m\u001b[0msleep\u001b[0m\u001b[0;34m(\u001b[0m\u001b[0;36m4\u001b[0m\u001b[0;34m)\u001b[0m\u001b[0;34m\u001b[0m\u001b[0;34m\u001b[0m\u001b[0m\n\u001b[0m\u001b[1;32m      9\u001b[0m     \u001b[0mnis\u001b[0m \u001b[0;34m=\u001b[0m \u001b[0mdriver\u001b[0m\u001b[0;34m.\u001b[0m\u001b[0mfind_elements_by_tag_name\u001b[0m\u001b[0;34m(\u001b[0m\u001b[0;34m'li'\u001b[0m\u001b[0;34m)\u001b[0m\u001b[0;34m\u001b[0m\u001b[0;34m\u001b[0m\u001b[0m\n\u001b[1;32m     10\u001b[0m     \u001b[0mnewlist\u001b[0m \u001b[0;34m=\u001b[0m \u001b[0mlen\u001b[0m\u001b[0;34m(\u001b[0m\u001b[0mnis\u001b[0m\u001b[0;34m)\u001b[0m\u001b[0;34m\u001b[0m\u001b[0;34m\u001b[0m\u001b[0m\n",
      "\u001b[0;31mKeyboardInterrupt\u001b[0m: "
     ]
    }
   ],
   "source": [
    "import time\n",
    "counter = 1500\n",
    "newlist = len(nis)\n",
    "while(oldlist<newlist):\n",
    "    print(\"oldlist\", oldlist)\n",
    "    oldlist = newlist\n",
    "    driver.execute_script(\"arguments[0].scrollTo(0,\"+str(counter)+\");\", secwin)\n",
    "    time.sleep(4)\n",
    "    nis = driver.find_elements_by_tag_name('li')\n",
    "    newlist = len(nis)\n",
    "    counter+=1000\n",
    "    print(\"newlist\", newlist)"
   ]
  },
  {
   "cell_type": "code",
   "execution_count": null,
   "metadata": {},
   "outputs": [],
   "source": []
  }
 ],
 "metadata": {
  "kernelspec": {
   "display_name": "Python 3",
   "language": "python",
   "name": "python3"
  },
  "language_info": {
   "codemirror_mode": {
    "name": "ipython",
    "version": 3
   },
   "file_extension": ".py",
   "mimetype": "text/x-python",
   "name": "python",
   "nbconvert_exporter": "python",
   "pygments_lexer": "ipython3",
   "version": "3.8.2"
  }
 },
 "nbformat": 4,
 "nbformat_minor": 4
}
